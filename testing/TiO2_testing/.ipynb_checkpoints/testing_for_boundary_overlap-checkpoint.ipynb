{
 "cells": [
  {
   "cell_type": "code",
   "execution_count": 29,
   "metadata": {},
   "outputs": [
    {
     "name": "stdout",
     "output_type": "stream",
     "text": [
      "['up']\n",
      "[[42.9509329015, 39.789744241, 1, 3]]\n",
      "3.0\n"
     ]
    },
    {
     "data": {
      "text/plain": [
       "True"
      ]
     },
     "execution_count": 29,
     "metadata": {},
     "output_type": "execute_result"
    }
   ],
   "source": [
    "import param\n",
    "\n",
    "def distance(x1, y1, x2, y2):\n",
    "    d = ((x1 - x2)**2.0 + (y1 - y2)**2.0)**(0.5)\n",
    "    return d\n",
    "\n",
    "# current_LCG is current largest cluster radius\n",
    "def boundaryOverlapCheck(coords, current_x, current_y, current_radius, current_LCG ):\n",
    "    overlap = False\n",
    "\n",
    "    # determine which kinds overlap is happening here\n",
    "    overlapPotentialType = []\n",
    "\n",
    "    # right most case, left most, up case, down case\n",
    "    if current_x + current_radius + current_LCG >=  param.maxx:\n",
    "        overlapPotentialType.append( \"right\")\n",
    "    if current_x - current_radius - current_LCG<= param.minx:\n",
    "        overlapPotentialType.append(\"left\" )\n",
    "    if current_y + current_radius + current_LCG>= param.maxy:\n",
    "        overlapPotentialType.append(\"up\")\n",
    "    if current_y - current_radius - current_LCG<= param.miny:\n",
    "        overlapPotentialType.append(\"down\")\n",
    "    \n",
    "    # no boundary overlap case\n",
    "    if overlapPotentialType == [] :\n",
    "        return overlap\n",
    "    \n",
    "    # newClusterList[][0] = x\n",
    "    # newClusterList[][1] = y\n",
    "    # newClusterList[][2] = radius\n",
    "    # newClusterList[][3] = types\n",
    "    newClusterList = []\n",
    "    \n",
    "    print(overlapPotentialType)\n",
    "    \n",
    "    for types in overlapPotentialType:\n",
    "        if types == \"right\" :\n",
    "            # delta is the longest length that other potential overlap cluster can exist\n",
    "            delta = current_x + current_radius - param.maxx + 2 * current_LCG\n",
    "            for cluster in coords:\n",
    "                if cluster[0] <=  param.minx + delta:\n",
    "                    newClusterList.append([cluster[0] + param.maxx, cluster[1], cluster[2], cluster[3]])       \n",
    "        if types == \"left\" :\n",
    "            # this delt should be a negative number\n",
    "            delta = current_x - current_radius + param.minx - 2 * current_LCG\n",
    "            for cluster in coords:\n",
    "                if cluster[0] >= param.maxx + delta:\n",
    "                    newClusterList.append([cluster[0] - param.maxx, cluster[1], cluster[2], cluster[3]])\n",
    "        if types == \"up\" :\n",
    "            delta = current_y + current_radius - param.maxy + 2 * current_LCG\n",
    "            for cluster in coords:\n",
    "                if cluster[1] <= param.miny + delta:\n",
    "                    newClusterList.append([cluster[0], cluster[1] +param.maxy, cluster[2], cluster[3]])\n",
    "        if types == \"down\" :\n",
    "            delta = current_y - current_radius + param.miny - 2 * current_LCG\n",
    "            for cluster in coords:\n",
    "                if cluster[1] >= param.maxy +delta:\n",
    "                    newClusterList.append([cluster[0], cluster[1] - param.maxy, cluster[2],cluster[3]])\n",
    "    \n",
    "    print(newClusterList)\n",
    "    # checking overlap\n",
    "    for testCluster in newClusterList:\n",
    "        print(distance(current_x,current_y, testCluster[0],testCluster[1]))\n",
    "        if distance(current_x,current_y, testCluster[0],testCluster[1]) <= current_radius + testCluster[2]:\n",
    "            overlap = True\n",
    "            break\n",
    "            \n",
    "    \n",
    "    return overlap \n",
    "\n",
    "\n",
    "\n",
    "coords1 = [[param.maxx /2, 0, 1,3]]\n",
    "\n",
    "boundaryOverlapCheck(coords1, param.maxx /2  , param.maxy -3, 2, 2)"
   ]
  },
  {
   "cell_type": "code",
   "execution_count": 5,
   "metadata": {},
   "outputs": [
    {
     "name": "stdout",
     "output_type": "stream",
     "text": [
      "1\n",
      "3\n"
     ]
    }
   ],
   "source": [
    "types= \"lala\"\n",
    "\n",
    "llala = False\n",
    "if types== \"lala\":\n",
    "    llala = True\n",
    "\n",
    "llala\n",
    "\n",
    "\n",
    "cluster = [[1,2],[3,4]]\n",
    "\n",
    "for la in cluster:\n",
    "    print(la[0])"
   ]
  }
 ],
 "metadata": {
  "kernelspec": {
   "display_name": "Python 3",
   "language": "python",
   "name": "python3"
  },
  "language_info": {
   "codemirror_mode": {
    "name": "ipython",
    "version": 3
   },
   "file_extension": ".py",
   "mimetype": "text/x-python",
   "name": "python",
   "nbconvert_exporter": "python",
   "pygments_lexer": "ipython3",
   "version": "3.7.0"
  }
 },
 "nbformat": 4,
 "nbformat_minor": 2
}
