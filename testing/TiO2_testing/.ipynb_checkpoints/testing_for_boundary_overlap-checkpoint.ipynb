{
 "cells": [
  {
   "cell_type": "code",
   "execution_count": 4,
   "metadata": {},
   "outputs": [
    {
     "name": "stdout",
     "output_type": "stream",
     "text": [
      "['left', 'down']\n"
     ]
    },
    {
     "data": {
      "text/plain": [
       "True"
      ]
     },
     "execution_count": 4,
     "metadata": {},
     "output_type": "execute_result"
    }
   ],
   "source": [
    "import param\n",
    "\n",
    "def distance(x1, y1, x2, y2):\n",
    "    d = ((x1 - x2)**2.0 + (y1 - y2)**2.0)**(0.5)\n",
    "    return d\n",
    "\n",
    "# current_LCG is current largest cluster radius\n",
    "def boundaryOverlapCheck(coords, current_x, current_y, current_radius, current_LCG ):\n",
    "    overlap = False\n",
    "\n",
    "    # check whether is the beginning\n",
    "    if current_LCG <= 0:\n",
    "        return overlap\n",
    "\n",
    "    # check whether this LCG is smaller than current radius\n",
    "    if current_LCG <= current_radius :\n",
    "        current_LCG = current_radius\n",
    "    \n",
    "    isRight = False\n",
    "    isLeft = False\n",
    "    isUp = False\n",
    "    isDown = False\n",
    "\n",
    "    # determine which kinds overlap is happening here\n",
    "    overlapPotentialType = []\n",
    "\n",
    "    # right most case, left most, up case, down case\n",
    "    if current_x + current_radius + current_LCG >=  param.maxx:\n",
    "        isRight = True\n",
    "        overlapPotentialType.append( \"right\")\n",
    "    if current_x - current_radius - current_LCG<= param.minx:\n",
    "        isLeft = True\n",
    "        overlapPotentialType.append(\"left\" )\n",
    "    if current_y + current_radius + current_LCG>= param.maxy:\n",
    "        isUp = True\n",
    "        overlapPotentialType.append(\"up\")\n",
    "    if current_y - current_radius - current_LCG<= param.miny:\n",
    "        isDown = True\n",
    "        overlapPotentialType.append(\"down\")\n",
    "    \n",
    "    # no boundary overlap case\n",
    "    if overlapPotentialType == [] :\n",
    "        return overlap\n",
    "    \n",
    "    # newClusterList[][0] = x\n",
    "    # newClusterList[][1] = y\n",
    "    # newClusterList[][2] = radius\n",
    "    # newClusterList[][3] = types\n",
    "    newClusterList = []\n",
    "    \n",
    "    print(overlapPotentialType)\n",
    "    \n",
    "    for types in overlapPotentialType:\n",
    "        if types == \"right\" :\n",
    "            # delta is the longest length that other potential overlap cluster can exist\n",
    "            delta = current_x + current_radius - param.maxx + 2 * current_LCG\n",
    "            for cluster in coords:\n",
    "                if cluster[0] <=  param.minx + delta:\n",
    "                    newClusterList.append([cluster[0] + param.maxx, cluster[1], cluster[2], cluster[3]])       \n",
    "        if types == \"left\" :\n",
    "            # this delt should be a negative number\n",
    "            delta = current_x - current_radius + param.minx - 2 * current_LCG\n",
    "            for cluster in coords:\n",
    "                if cluster[0] >= param.maxx + delta:\n",
    "                    newClusterList.append([cluster[0] - param.maxx, cluster[1], cluster[2], cluster[3]])\n",
    "        if types == \"up\" :\n",
    "            delta = current_y + current_radius - param.maxy + 2 * current_LCG\n",
    "            for cluster in coords:\n",
    "                if cluster[1] <= param.miny + delta:\n",
    "                    newClusterList.append([cluster[0], cluster[1] +param.maxy, cluster[2], cluster[3]])\n",
    "        if types == \"down\" :\n",
    "            delta = current_y - current_radius + param.miny - 2 * current_LCG\n",
    "            for cluster in coords:\n",
    "                if cluster[1] >= param.maxy +delta:\n",
    "                    newClusterList.append([cluster[0], cluster[1] - param.maxy, cluster[2],cluster[3]])\n",
    "                    \n",
    "    # check for corner cases\n",
    "    if isRight and isUp :\n",
    "        for cluster in coords:\n",
    "                if (cluster[0] <= current_LCG) and (cluster[1] <= current_LCG):\n",
    "                    newClusterList.append([cluster[0] + param.maxx, cluster[1] + param.maxy, cluster[2], cluster[3]])\n",
    "    if isRight and isDown :\n",
    "        for cluster in coords:\n",
    "                if (cluster[0] <= current_LCG) and (cluster[1] >= param.maxy - current_LCG):\n",
    "                    newClusterList.append([cluster[0] + param.maxx, cluster[1] - param.maxy, cluster[2], cluster[3]])\n",
    "    if isLeft and isUp :\n",
    "        for cluster in coords:\n",
    "                if (cluster[0] >= param.maxx - current_LCG) and (cluster[1] <= current_LCG):\n",
    "                    newClusterList.append([cluster[0] - param.maxx, cluster[1] + param.maxy, cluster[2], cluster[3]])\n",
    "    if isLeft and isDown :\n",
    "         for cluster in coords:\n",
    "                if (cluster[0] >= param.maxx - current_LCG) and (cluster[1] >= param.maxy - current_LCG):\n",
    "                    newClusterList.append([cluster[0] - param.maxx, cluster[1] - param.maxy, cluster[2], cluster[3]])\n",
    "    \n",
    "    # checking overlap\n",
    "    for testCluster in newClusterList:\n",
    "        if distance(current_x,current_y, testCluster[0],testCluster[1]) <= current_radius + testCluster[2]:\n",
    "            overlap = True\n",
    "            break\n",
    "                \n",
    "    return overlap \n",
    "\n",
    "\n",
    "coords1 = [[param.maxx -1, param.maxy - 1, 1,3]]\n",
    "\n",
    "boundaryOverlapCheck(coords1, 1  , 1, 2, 2)"
   ]
  },
  {
   "cell_type": "code",
   "execution_count": 5,
   "metadata": {},
   "outputs": [
    {
     "name": "stdout",
     "output_type": "stream",
     "text": [
      "1\n",
      "3\n"
     ]
    }
   ],
   "source": [
    "types= \"lala\"\n",
    "\n",
    "llala = False\n",
    "if types== \"lala\":\n",
    "    llala = True\n",
    "\n",
    "llala\n",
    "\n",
    "\n",
    "cluster = [[1,2],[3,4]]\n",
    "\n",
    "for la in cluster:\n",
    "    print(la[0])"
   ]
  }
 ],
 "metadata": {
  "kernelspec": {
   "display_name": "Python 3",
   "language": "python",
   "name": "python3"
  },
  "language_info": {
   "codemirror_mode": {
    "name": "ipython",
    "version": 3
   },
   "file_extension": ".py",
   "mimetype": "text/x-python",
   "name": "python",
   "nbconvert_exporter": "python",
   "pygments_lexer": "ipython3",
   "version": "3.7.0"
  }
 },
 "nbformat": 4,
 "nbformat_minor": 2
}
