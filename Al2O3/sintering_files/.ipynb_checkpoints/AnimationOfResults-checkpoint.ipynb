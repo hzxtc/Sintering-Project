{
 "cells": [
  {
   "cell_type": "code",
   "execution_count": null,
   "metadata": {},
   "outputs": [],
   "source": [
    "#animation for the result\n",
    "\n",
    "import numpy as np\n",
    "import timeit, math, copy\n",
    "import param\n",
    "from scipy.special import expit          # for handling very small exp\n",
    "import matplotlib as mpl\n",
    "import matplotlib.pyplot as plt\n",
    "from matplotlib.ticker import AutoMinorLocator\n",
    "from matplotlib.ticker import MultipleLocator\n",
    "from matplotlib.ticker import LinearLocator\n",
    "from matplotlib.ticker import ScalarFormatter\n",
    "from matplotlib import animation\n",
    "\n",
    "dataForAnimation = []\n",
    "radiusForAnimation = []\n",
    "\n",
    "# adding information into dataForAnimation\n",
    "with open('metropolis','r') as f1:\n",
    "    information = f1.readlines()\n",
    "    startIndex = 0\n",
    "    for index in range(param.MMAX + 1):\n",
    "        numberOfCluster = int(information[startIndex].split()[5])\n",
    "        dataSet = []\n",
    "        radiusSet = []\n",
    "        for i in range(startIndex + 2, startIndex + 2 + numberOfCluster ): # only adding [0] = x, [1] = y\n",
    "            dataSet.append((float(information[i].split()[2]) , float(information[i].split()[3])))\n",
    "            radiusSet.append(50*float(information[i].split()[1]))\n",
    "        radiusForAnimation.append(radiusSet)\n",
    "        dataForAnimation.append(dataSet)\n",
    "        startIndex = startIndex + 2 + numberOfCluster + 1\n",
    "\n",
    "        \n",
    "# plotting the boundary\n",
    "plt.figure(figsize=(7,7))\n",
    "boundaryDots_X = [0, param.maxx, param.maxx - param.maxy / np.sqrt(3), - param.maxy / np.sqrt(3), 0 ]\n",
    "boundaryDots_Y = [0, 0, param.maxy, param.maxy, 0]\n",
    "plt.plot(boundaryDots_X, boundaryDots_Y,marker=\"o\", markerfacecolor=\"none\", ms=1)\n",
    "\n",
    "\n",
    "glider = set(dataForAnimation[0])\n",
    "\n",
    "fig = plt.figure()\n",
    "\n",
    "x, y = zip(*glider)\n",
    "scat = plt.scatter(x, y, c='b', s=radiusForAnimation[0] )\n",
    "\n",
    "def animate(i):\n",
    "    if i <= param.MMAX:\n",
    "        scat.set_offsets( dataForAnimation[i])\n",
    "        scat.set_sizes(radiusForAnimation[i])\n",
    "    return scat,\n",
    "\n",
    "\n",
    "ani = animation.FuncAnimation(fig, animate, frames=range(param.MMAX+1))\n",
    "\n",
    "#ani.save('output1.gif', writer='pillow')\n",
    "ani.save('animation.mp4', writer='pillow')"
   ]
  },
  {
   "cell_type": "code",
   "execution_count": 3,
   "metadata": {
    "scrolled": true
   },
   "outputs": [
    {
     "name": "stdout",
     "output_type": "stream",
     "text": [
      "0\n",
      "1\n",
      "2\n",
      "3\n",
      "4\n",
      "5\n",
      "6\n",
      "7\n",
      "8\n",
      "9\n"
     ]
    }
   ],
   "source": [
    "for la in range(0,10):\n",
    "    print(la)"
   ]
  },
  {
   "cell_type": "code",
   "execution_count": 14,
   "metadata": {
    "scrolled": true
   },
   "outputs": [
    {
     "data": {
      "image/png": "[encoded data removed]",
      "text/plain": [
       "<Figure size 432x288 with 1 Axes>"
      ]
     },
     "metadata": {
      "needs_background": "light"
     },
     "output_type": "display_data"
    }
   ],
   "source": [
    "#testing1\n",
    "import itertools\n",
    "import matplotlib.pyplot as plt\n",
    "import matplotlib.animation as animation\n",
    "\n",
    "def neighbors(point):\n",
    "    x, y = point\n",
    "    for i, j in itertools.product(range(-1, 2), repeat=2):\n",
    "        if any((i, j)):\n",
    "            yield (x + i, y + j)\n",
    "\n",
    "def advance(board):\n",
    "    newstate = set()\n",
    "    recalc = board | set(itertools.chain(*map(neighbors, board)))\n",
    "\n",
    "    for point in recalc:\n",
    "        count = sum((neigh in board)\n",
    "                for neigh in neighbors(point))\n",
    "        if count == 3 or (count == 2 and point in board):\n",
    "            newstate.add(point)\n",
    "\n",
    "    return newstate\n",
    "\n",
    "glider = set([(0, 0), (1, 0), (2, 0), (0, 1), (1, 2)])\n",
    "\n",
    "fig, ax = plt.subplots()\n",
    "\n",
    "x, y = zip(*glider)\n",
    "mat, = ax.plot(x, y, 'o')\n",
    "\n",
    "def animate(i):\n",
    "    global glider\n",
    "    glider = advance(glider)\n",
    "    x, y = zip(*glider)\n",
    "    mat.set_data(x, y)\n",
    "    return mat,\n",
    "\n",
    "ax.axis([-15,5,-15,5])\n",
    "ani = animation.FuncAnimation(fig, animate, interval=50)\n",
    "\n",
    "ani.save('output.gif', writer='pillow')"
   ]
  },
  {
   "cell_type": "code",
   "execution_count": 32,
   "metadata": {},
   "outputs": [
    {
     "data": {
      "image/png": "[encoded data removed]",
      "text/plain": [
       "<Figure size 432x288 with 1 Axes>"
      ]
     },
     "metadata": {
      "needs_background": "light"
     },
     "output_type": "display_data"
    }
   ],
   "source": [
    "import matplotlib.pyplot as plt\n",
    "import numpy as np\n",
    "import matplotlib.animation as animation\n",
    "\n",
    "#testing 2\n",
    "    \n",
    "def update_plot(i, data, scat):\n",
    "    scat.set_array(data[i])\n",
    "    return scat,\n",
    "\n",
    "numframes = 100\n",
    "numpoints = 10\n",
    "color_data = np.random.random((numframes, numpoints))\n",
    "x, y, c = np.random.random((3, numpoints))\n",
    "\n",
    "fig = plt.figure()\n",
    "scat = plt.scatter(x, y, c=c, s=100)\n",
    "\n",
    "ani = animation.FuncAnimation(fig, update_plot, frames=range(numframes),\n",
    "                                  fargs=(color_data, scat))\n",
    "ani.save('output.gif', writer='pillow')"
   ]
  }
 ],
 "metadata": {
  "kernelspec": {
   "display_name": "Python 3",
   "language": "python",
   "name": "python3"
  },
  "language_info": {
   "codemirror_mode": {
    "name": "ipython",
    "version": 3
   },
   "file_extension": ".py",
   "mimetype": "text/x-python",
   "name": "python",
   "nbconvert_exporter": "python",
   "pygments_lexer": "ipython3",
   "version": "3.7.0"
  }
 },
 "nbformat": 4,
 "nbformat_minor": 2
}
