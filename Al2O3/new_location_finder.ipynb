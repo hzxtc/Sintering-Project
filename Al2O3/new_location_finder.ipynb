{
 "cells": [
  {
   "cell_type": "code",
   "execution_count": 16,
   "metadata": {},
   "outputs": [
    {
     "name": "stdout",
     "output_type": "stream",
     "text": [
      "4.840249999999999  8.383558920667628\n"
     ]
    }
   ],
   "source": [
    "import numpy as np\n",
    "import param\n",
    "import math, copy\n",
    "\n",
    "PES = [] # potential energy surface element, x, y, z, E\n",
    "\n",
    "with open('PES','r') as f3:\n",
    "    data = f3.readlines()\n",
    "    for line in data:   \n",
    "        PES.append([ str(line.split()[0]), \n",
    "                     float(line.split()[1]), \n",
    "                     float(line.split()[2]), \n",
    "                     float(line.split()[3]) ])\n",
    "\n",
    "PES_copy  = copy.deepcopy(PES)\n",
    "\n",
    "allPossibleLocation = []\n",
    "\n",
    "# generating all the grid point and store in allPossibleLocation\n",
    "for k in range(0, len(PES_copy)): \n",
    "    for i in range(0, param.num_primcellInOneDirection):\n",
    "        for j in range(0, param.num_primcellInOneDirection):\n",
    "            yIncreaseFactor =  param.primcell_b *j\n",
    "            y = PES[k][2] + yIncreaseFactor * np.sqrt(3)/2\n",
    "            x = PES[k][1] + param.primcell_a * i -  yIncreaseFactor* 1 /2\n",
    "            allPossibleLocation.append([x, y])\n",
    "                                        \n",
    "\n",
    "def distance(x1, y1, x2, y2):\n",
    "    d = ((x1 - x2)**2.0 + (y1 - y2)**2.0)**(0.5)\n",
    "    return d\n",
    "\n",
    "def newLocationFinder(x1, y1, type1, x2, y2, type2):\n",
    "    # using the Parametrization of line by t to help us figure out the proposed positions\n",
    "    t = type1 / (type1 + type2)\n",
    "    \n",
    "    proposedX = x2 + t * (x1 - x2)\n",
    "    proposedY = y2 + t * (y1 - y2)\n",
    "    \n",
    "    shortestDistance =  distance (allPossibleLocation[0][0], allPossibleLocation[0][1], proposedX, proposedY)\n",
    "    \n",
    "    new_X = 0\n",
    "    new_Y = 0\n",
    "    \n",
    "    for location in allPossibleLocation:\n",
    "        if (distance (location[0], location[1], proposedX, proposedY) < shortestDistance):\n",
    "            shortestDistance = distance (location[0],location[1], proposedX, proposedY)\n",
    "            new_X = location[0]\n",
    "            new_Y = location[1]\n",
    "            \n",
    "    \n",
    "    return new_X, new_Y\n",
    "\n",
    "\n",
    "x, y = newLocationFinder(0.00000000,0.00000000, 1, 2.42012500 *4, 4.19177946 *4, 1)\n",
    "\n",
    "print(str(x) + \"  \" + str(y))"
   ]
  }
 ],
 "metadata": {
  "kernelspec": {
   "display_name": "Python 3",
   "language": "python",
   "name": "python3"
  },
  "language_info": {
   "codemirror_mode": {
    "name": "ipython",
    "version": 3
   },
   "file_extension": ".py",
   "mimetype": "text/x-python",
   "name": "python",
   "nbconvert_exporter": "python",
   "pygments_lexer": "ipython3",
   "version": "3.7.0"
  }
 },
 "nbformat": 4,
 "nbformat_minor": 2
}
